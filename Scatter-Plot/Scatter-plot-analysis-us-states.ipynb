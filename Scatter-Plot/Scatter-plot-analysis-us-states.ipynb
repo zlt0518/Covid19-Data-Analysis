{
 "cells": [
  {
   "cell_type": "markdown",
   "id": "df88e49a-d013-4c67-b689-5263993e450b",
   "metadata": {},
   "source": [
    "# Scatter Plot analysis toward the number of tweets and statistics of covid-19 3 states in US"
   ]
  },
  {
   "cell_type": "markdown",
   "id": "4dcd432c-3b0b-4294-bad0-8d69200c7580",
   "metadata": {},
   "source": [
    "This notebook plot the weekly number of tweets in three different states against the weekly number of confirmed cases and death cases in that states and intend to see the regression trend."
   ]
  },
  {
   "cell_type": "code",
   "execution_count": 2,
   "id": "da74775b-5e8e-4f8e-901e-0fc95f65f46a",
   "metadata": {},
   "outputs": [],
   "source": [
    "#import the important library\n",
    "import numpy as np\n",
    "import pandas as pd\n",
    "import matplotlib.pyplot as plt\n",
    "import json as js\n",
    "import ast\n",
    "import re\n",
    "from datetime import datetime\n",
    "from datetime import timedelta\n",
    "import branca.colormap as cm\n",
    "from branca.colormap import linear"
   ]
  },
  {
   "cell_type": "code",
   "execution_count": 3,
   "id": "cd9dd72e-1d92-4dff-b3e4-5c11434e3f4f",
   "metadata": {},
   "outputs": [
    {
     "data": {
      "text/html": [
       "<div>\n",
       "<style scoped>\n",
       "    .dataframe tbody tr th:only-of-type {\n",
       "        vertical-align: middle;\n",
       "    }\n",
       "\n",
       "    .dataframe tbody tr th {\n",
       "        vertical-align: top;\n",
       "    }\n",
       "\n",
       "    .dataframe thead th {\n",
       "        text-align: right;\n",
       "    }\n",
       "</style>\n",
       "<table border=\"1\" class=\"dataframe\">\n",
       "  <thead>\n",
       "    <tr style=\"text-align: right;\">\n",
       "      <th></th>\n",
       "      <th>date</th>\n",
       "      <th>state</th>\n",
       "      <th>deathIncrease</th>\n",
       "      <th>positiveIncrease</th>\n",
       "      <th>week_index</th>\n",
       "    </tr>\n",
       "  </thead>\n",
       "  <tbody>\n",
       "    <tr>\n",
       "      <th>0</th>\n",
       "      <td>2021-03-07</td>\n",
       "      <td>AK</td>\n",
       "      <td>0</td>\n",
       "      <td>0</td>\n",
       "      <td>50</td>\n",
       "    </tr>\n",
       "    <tr>\n",
       "      <th>1</th>\n",
       "      <td>2021-03-07</td>\n",
       "      <td>AL</td>\n",
       "      <td>-1</td>\n",
       "      <td>408</td>\n",
       "      <td>50</td>\n",
       "    </tr>\n",
       "    <tr>\n",
       "      <th>2</th>\n",
       "      <td>2021-03-07</td>\n",
       "      <td>AR</td>\n",
       "      <td>22</td>\n",
       "      <td>165</td>\n",
       "      <td>50</td>\n",
       "    </tr>\n",
       "    <tr>\n",
       "      <th>3</th>\n",
       "      <td>2021-03-07</td>\n",
       "      <td>AS</td>\n",
       "      <td>0</td>\n",
       "      <td>0</td>\n",
       "      <td>50</td>\n",
       "    </tr>\n",
       "    <tr>\n",
       "      <th>4</th>\n",
       "      <td>2021-03-07</td>\n",
       "      <td>AZ</td>\n",
       "      <td>5</td>\n",
       "      <td>1335</td>\n",
       "      <td>50</td>\n",
       "    </tr>\n",
       "    <tr>\n",
       "      <th>...</th>\n",
       "      <td>...</td>\n",
       "      <td>...</td>\n",
       "      <td>...</td>\n",
       "      <td>...</td>\n",
       "      <td>...</td>\n",
       "    </tr>\n",
       "    <tr>\n",
       "      <th>19819</th>\n",
       "      <td>2020-03-19</td>\n",
       "      <td>VT</td>\n",
       "      <td>0</td>\n",
       "      <td>2</td>\n",
       "      <td>0</td>\n",
       "    </tr>\n",
       "    <tr>\n",
       "      <th>19820</th>\n",
       "      <td>2020-03-19</td>\n",
       "      <td>WA</td>\n",
       "      <td>10</td>\n",
       "      <td>268</td>\n",
       "      <td>0</td>\n",
       "    </tr>\n",
       "    <tr>\n",
       "      <th>19821</th>\n",
       "      <td>2020-03-19</td>\n",
       "      <td>WI</td>\n",
       "      <td>0</td>\n",
       "      <td>53</td>\n",
       "      <td>0</td>\n",
       "    </tr>\n",
       "    <tr>\n",
       "      <th>19822</th>\n",
       "      <td>2020-03-19</td>\n",
       "      <td>WV</td>\n",
       "      <td>0</td>\n",
       "      <td>1</td>\n",
       "      <td>0</td>\n",
       "    </tr>\n",
       "    <tr>\n",
       "      <th>19823</th>\n",
       "      <td>2020-03-19</td>\n",
       "      <td>WY</td>\n",
       "      <td>0</td>\n",
       "      <td>3</td>\n",
       "      <td>0</td>\n",
       "    </tr>\n",
       "  </tbody>\n",
       "</table>\n",
       "<p>19824 rows × 5 columns</p>\n",
       "</div>"
      ],
      "text/plain": [
       "             date state  deathIncrease  positiveIncrease  week_index\n",
       "0      2021-03-07    AK              0                 0          50\n",
       "1      2021-03-07    AL             -1               408          50\n",
       "2      2021-03-07    AR             22               165          50\n",
       "3      2021-03-07    AS              0                 0          50\n",
       "4      2021-03-07    AZ              5              1335          50\n",
       "...           ...   ...            ...               ...         ...\n",
       "19819  2020-03-19    VT              0                 2           0\n",
       "19820  2020-03-19    WA             10               268           0\n",
       "19821  2020-03-19    WI              0                53           0\n",
       "19822  2020-03-19    WV              0                 1           0\n",
       "19823  2020-03-19    WY              0                 3           0\n",
       "\n",
       "[19824 rows x 5 columns]"
      ]
     },
     "execution_count": 3,
     "metadata": {},
     "output_type": "execute_result"
    }
   ],
   "source": [
    "#remove the date that is out of the bounb \n",
    "def check_date_inbound(df):\n",
    "    start_date = datetime.strptime('2020-03-19', '%Y-%m-%d')\n",
    "    delta = int((datetime.strptime(df['date'], '%Y-%m-%d')-start_date).days)\n",
    "    if delta < 0:\n",
    "        return False\n",
    "    else:\n",
    "        return True\n",
    "\n",
    "#get the week index\n",
    "def get_week_index(df):\n",
    "    start_date = datetime.strptime('2020-03-19', '%Y-%m-%d')\n",
    "    delta = int((datetime.strptime(df['date'], '%Y-%m-%d')-start_date).days)    \n",
    "    return int(delta/7)\n",
    "\n",
    "\n",
    "#Analysize to the data of invidual states in US scatter plot\n",
    "#read the file of covid data in us\n",
    "covid_states_df = pd.read_csv(\"all-states-history.csv\",usecols = ['date','deathIncrease','state','positiveIncrease',])\n",
    "covid_states_df['deathIncrease'].fillna(0)\n",
    "covid_states_df['positiveIncrease'].fillna(0)\n",
    "covid_states_df['date_inbound'] = covid_states_df.apply(check_date_inbound,axis = 1)\n",
    "covid_states_df = covid_states_df[covid_states_df['date_inbound'] == True]\n",
    "del covid_states_df['date_inbound']\n",
    "covid_states_df['week_index'] = covid_states_df.apply(get_week_index,axis = 1)\n",
    "covid_states_df "
   ]
  },
  {
   "cell_type": "code",
   "execution_count": 4,
   "id": "253b81f6-6006-49b6-83bd-c55508422c5b",
   "metadata": {},
   "outputs": [
    {
     "data": {
      "text/html": [
       "<div>\n",
       "<style scoped>\n",
       "    .dataframe tbody tr th:only-of-type {\n",
       "        vertical-align: middle;\n",
       "    }\n",
       "\n",
       "    .dataframe tbody tr th {\n",
       "        vertical-align: top;\n",
       "    }\n",
       "\n",
       "    .dataframe thead th {\n",
       "        text-align: right;\n",
       "    }\n",
       "</style>\n",
       "<table border=\"1\" class=\"dataframe\">\n",
       "  <thead>\n",
       "    <tr style=\"text-align: right;\">\n",
       "      <th></th>\n",
       "      <th>States</th>\n",
       "      <th>Count</th>\n",
       "      <th>Week_index</th>\n",
       "    </tr>\n",
       "  </thead>\n",
       "  <tbody>\n",
       "    <tr>\n",
       "      <th>0</th>\n",
       "      <td>CA</td>\n",
       "      <td>691.000000</td>\n",
       "      <td>0</td>\n",
       "    </tr>\n",
       "    <tr>\n",
       "      <th>1</th>\n",
       "      <td>TX</td>\n",
       "      <td>534.857143</td>\n",
       "      <td>0</td>\n",
       "    </tr>\n",
       "    <tr>\n",
       "      <th>2</th>\n",
       "      <td>NY</td>\n",
       "      <td>351.285714</td>\n",
       "      <td>0</td>\n",
       "    </tr>\n",
       "    <tr>\n",
       "      <th>3</th>\n",
       "      <td>FL</td>\n",
       "      <td>242.714286</td>\n",
       "      <td>0</td>\n",
       "    </tr>\n",
       "    <tr>\n",
       "      <th>4</th>\n",
       "      <td>GA</td>\n",
       "      <td>197.000000</td>\n",
       "      <td>0</td>\n",
       "    </tr>\n",
       "    <tr>\n",
       "      <th>...</th>\n",
       "      <td>...</td>\n",
       "      <td>...</td>\n",
       "      <td>...</td>\n",
       "    </tr>\n",
       "    <tr>\n",
       "      <th>2395</th>\n",
       "      <td>MT</td>\n",
       "      <td>14.714286</td>\n",
       "      <td>49</td>\n",
       "    </tr>\n",
       "    <tr>\n",
       "      <th>2396</th>\n",
       "      <td>SD</td>\n",
       "      <td>13.571429</td>\n",
       "      <td>49</td>\n",
       "    </tr>\n",
       "    <tr>\n",
       "      <th>2397</th>\n",
       "      <td>DE</td>\n",
       "      <td>12.714286</td>\n",
       "      <td>49</td>\n",
       "    </tr>\n",
       "    <tr>\n",
       "      <th>2398</th>\n",
       "      <td>ND</td>\n",
       "      <td>10.000000</td>\n",
       "      <td>49</td>\n",
       "    </tr>\n",
       "    <tr>\n",
       "      <th>2399</th>\n",
       "      <td>WY</td>\n",
       "      <td>7.000000</td>\n",
       "      <td>49</td>\n",
       "    </tr>\n",
       "  </tbody>\n",
       "</table>\n",
       "<p>2400 rows × 3 columns</p>\n",
       "</div>"
      ],
      "text/plain": [
       "     States       Count  Week_index\n",
       "0        CA  691.000000           0\n",
       "1        TX  534.857143           0\n",
       "2        NY  351.285714           0\n",
       "3        FL  242.714286           0\n",
       "4        GA  197.000000           0\n",
       "...     ...         ...         ...\n",
       "2395     MT   14.714286          49\n",
       "2396     SD   13.571429          49\n",
       "2397     DE   12.714286          49\n",
       "2398     ND   10.000000          49\n",
       "2399     WY    7.000000          49\n",
       "\n",
       "[2400 rows x 3 columns]"
      ]
     },
     "execution_count": 4,
     "metadata": {},
     "output_type": "execute_result"
    }
   ],
   "source": [
    "#read the file of tweets by country\n",
    "covid_tweets_states_df = pd.read_csv(\"us_states_weekly_counts.csv\")\n",
    "del covid_tweets_states_df['Unnamed: 0']\n",
    "covid_tweets_states_df"
   ]
  },
  {
   "cell_type": "code",
   "execution_count": 6,
   "id": "45ea878e-7e2d-426d-8362-51741b7880ac",
   "metadata": {},
   "outputs": [
    {
     "data": {
      "text/html": [
       "<div>\n",
       "<style scoped>\n",
       "    .dataframe tbody tr th:only-of-type {\n",
       "        vertical-align: middle;\n",
       "    }\n",
       "\n",
       "    .dataframe tbody tr th {\n",
       "        vertical-align: top;\n",
       "    }\n",
       "\n",
       "    .dataframe thead th {\n",
       "        text-align: right;\n",
       "    }\n",
       "</style>\n",
       "<table border=\"1\" class=\"dataframe\">\n",
       "  <thead>\n",
       "    <tr style=\"text-align: right;\">\n",
       "      <th></th>\n",
       "      <th>States</th>\n",
       "      <th>Count</th>\n",
       "      <th>Week_index</th>\n",
       "      <th>new_cases</th>\n",
       "      <th>new_deaths</th>\n",
       "    </tr>\n",
       "  </thead>\n",
       "  <tbody>\n",
       "    <tr>\n",
       "      <th>0</th>\n",
       "      <td>CA</td>\n",
       "      <td>691.000000</td>\n",
       "      <td>0</td>\n",
       "      <td>249.142857</td>\n",
       "      <td>5.714286</td>\n",
       "    </tr>\n",
       "    <tr>\n",
       "      <th>1</th>\n",
       "      <td>TX</td>\n",
       "      <td>534.857143</td>\n",
       "      <td>0</td>\n",
       "      <td>127.571429</td>\n",
       "      <td>1.428571</td>\n",
       "    </tr>\n",
       "    <tr>\n",
       "      <th>2</th>\n",
       "      <td>NY</td>\n",
       "      <td>351.285714</td>\n",
       "      <td>0</td>\n",
       "      <td>4061.000000</td>\n",
       "      <td>39.000000</td>\n",
       "    </tr>\n",
       "    <tr>\n",
       "      <th>3</th>\n",
       "      <td>FL</td>\n",
       "      <td>242.714286</td>\n",
       "      <td>0</td>\n",
       "      <td>182.428571</td>\n",
       "      <td>2.142857</td>\n",
       "    </tr>\n",
       "    <tr>\n",
       "      <th>4</th>\n",
       "      <td>GA</td>\n",
       "      <td>197.000000</td>\n",
       "      <td>0</td>\n",
       "      <td>150.000000</td>\n",
       "      <td>5.571429</td>\n",
       "    </tr>\n",
       "    <tr>\n",
       "      <th>...</th>\n",
       "      <td>...</td>\n",
       "      <td>...</td>\n",
       "      <td>...</td>\n",
       "      <td>...</td>\n",
       "      <td>...</td>\n",
       "    </tr>\n",
       "    <tr>\n",
       "      <th>2395</th>\n",
       "      <td>MT</td>\n",
       "      <td>14.714286</td>\n",
       "      <td>49</td>\n",
       "      <td>158.428571</td>\n",
       "      <td>3.571429</td>\n",
       "    </tr>\n",
       "    <tr>\n",
       "      <th>2396</th>\n",
       "      <td>SD</td>\n",
       "      <td>13.571429</td>\n",
       "      <td>49</td>\n",
       "      <td>146.428571</td>\n",
       "      <td>4.142857</td>\n",
       "    </tr>\n",
       "    <tr>\n",
       "      <th>2397</th>\n",
       "      <td>DE</td>\n",
       "      <td>12.714286</td>\n",
       "      <td>49</td>\n",
       "      <td>274.142857</td>\n",
       "      <td>5.428571</td>\n",
       "    </tr>\n",
       "    <tr>\n",
       "      <th>2398</th>\n",
       "      <td>ND</td>\n",
       "      <td>10.000000</td>\n",
       "      <td>49</td>\n",
       "      <td>76.571429</td>\n",
       "      <td>1.142857</td>\n",
       "    </tr>\n",
       "    <tr>\n",
       "      <th>2399</th>\n",
       "      <td>WY</td>\n",
       "      <td>7.000000</td>\n",
       "      <td>49</td>\n",
       "      <td>89.714286</td>\n",
       "      <td>1.571429</td>\n",
       "    </tr>\n",
       "  </tbody>\n",
       "</table>\n",
       "<p>2400 rows × 5 columns</p>\n",
       "</div>"
      ],
      "text/plain": [
       "     States       Count  Week_index    new_cases  new_deaths\n",
       "0        CA  691.000000           0   249.142857    5.714286\n",
       "1        TX  534.857143           0   127.571429    1.428571\n",
       "2        NY  351.285714           0  4061.000000   39.000000\n",
       "3        FL  242.714286           0   182.428571    2.142857\n",
       "4        GA  197.000000           0   150.000000    5.571429\n",
       "...     ...         ...         ...          ...         ...\n",
       "2395     MT   14.714286          49   158.428571    3.571429\n",
       "2396     SD   13.571429          49   146.428571    4.142857\n",
       "2397     DE   12.714286          49   274.142857    5.428571\n",
       "2398     ND   10.000000          49    76.571429    1.142857\n",
       "2399     WY    7.000000          49    89.714286    1.571429\n",
       "\n",
       "[2400 rows x 5 columns]"
      ]
     },
     "execution_count": 6,
     "metadata": {},
     "output_type": "execute_result"
    }
   ],
   "source": [
    "#get the value of case and death of each state\n",
    "def get_new_cases_value(df):\n",
    "    temp_df = covid_states_df[(covid_states_df['week_index']==df['Week_index'])&(covid_states_df['state']==df['States'])]\n",
    "    return temp_df['positiveIncrease'].mean()\n",
    "\n",
    "covid_tweets_states_df['new_cases'] = covid_tweets_states_df.apply(get_new_cases_value,axis = 1)\n",
    "\n",
    "def get_new_death_value(df):\n",
    "    temp_df = covid_states_df[(covid_states_df['week_index']==df['Week_index'])&(covid_states_df['state']==df['States'])]\n",
    "    return temp_df['deathIncrease'].mean()\n",
    "\n",
    "covid_tweets_states_df['new_deaths'] = covid_tweets_states_df.apply(get_new_death_value,axis = 1)\n",
    "covid_tweets_states_df"
   ]
  },
  {
   "cell_type": "code",
   "execution_count": 7,
   "id": "2ae0af0e-f862-4125-ae3e-48066c6622d3",
   "metadata": {},
   "outputs": [
    {
     "data": {
      "text/plain": [
       "<AxesSubplot:title={'center':'New York State new confirmed cases vs tweets number'}, xlabel='number of tweets', ylabel='number of new death cases'>"
      ]
     },
     "execution_count": 7,
     "metadata": {},
     "output_type": "execute_result"
    },
    {
     "data": {
      "image/png": "[encoded data removed]",
      "text/plain": [
       "<Figure size 432x288 with 1 Axes>"
      ]
     },
     "metadata": {
      "needs_background": "light"
     },
     "output_type": "display_data"
    }
   ],
   "source": [
    "#the analysis toward New York\n",
    "ny_twitter_df = covid_tweets_states_df[covid_tweets_states_df['States'] =='NY']\n",
    "ny_twitter_df=ny_twitter_df[ny_twitter_df['Week_index']>15]\n",
    "\n",
    "ny_twitter_df.plot.scatter(x = 'Count', y = 'new_cases', xlabel = 'number of tweets', ylabel = 'number of new death cases',title = 'New York State new confirmed cases vs tweets number')\n"
   ]
  },
  {
   "cell_type": "code",
   "execution_count": 8,
   "id": "e23fa696-305d-4815-844f-d71afdb1c3e3",
   "metadata": {},
   "outputs": [
    {
     "data": {
      "text/plain": [
       "<AxesSubplot:title={'center':'New York State new death cases vs tweets number'}, xlabel='number of tweets', ylabel='number of new death cases'>"
      ]
     },
     "execution_count": 8,
     "metadata": {},
     "output_type": "execute_result"
    },
    {
     "data": {
      "image/png": "[encoded data removed]",
      "text/plain": [
       "<Figure size 432x288 with 1 Axes>"
      ]
     },
     "metadata": {
      "needs_background": "light"
     },
     "output_type": "display_data"
    }
   ],
   "source": [
    "ny_twitter_df.plot.scatter( x = 'Count', y = 'new_deaths', xlabel = 'number of tweets', ylabel = 'number of new death cases',title = 'New York State new death cases vs tweets number')"
   ]
  },
  {
   "cell_type": "code",
   "execution_count": 9,
   "id": "b299a506-fa6e-4b58-a58e-8ec056333dc0",
   "metadata": {},
   "outputs": [
    {
     "data": {
      "text/plain": [
       "<AxesSubplot:title={'center':'California new confirmed cases vs tweets number'}, xlabel='number of tweets', ylabel='number of new death cases'>"
      ]
     },
     "execution_count": 9,
     "metadata": {},
     "output_type": "execute_result"
    },
    {
     "data": {
      "image/png": "[encoded data removed]",
      "text/plain": [
       "<Figure size 432x288 with 1 Axes>"
      ]
     },
     "metadata": {
      "needs_background": "light"
     },
     "output_type": "display_data"
    }
   ],
   "source": [
    "#the analysis toward California\n",
    "california_twitter_df = covid_tweets_states_df[covid_tweets_states_df['States'] =='CA']\n",
    "california_twitter_df=california_twitter_df[california_twitter_df['Week_index']>15]\n",
    "\n",
    "california_twitter_df.plot.scatter(x = 'Count', y = 'new_cases', xlabel = 'number of tweets', ylabel = 'number of new death cases',title = 'California new confirmed cases vs tweets number')\n"
   ]
  },
  {
   "cell_type": "code",
   "execution_count": 10,
   "id": "f66e306f-2c3f-4f10-b370-0c3e828269a7",
   "metadata": {},
   "outputs": [
    {
     "data": {
      "text/plain": [
       "<AxesSubplot:title={'center':'California new death cases vs tweets number'}, xlabel='number of tweets', ylabel='number of new death cases'>"
      ]
     },
     "execution_count": 10,
     "metadata": {},
     "output_type": "execute_result"
    },
    {
     "data": {
      "image/png": "[encoded data removed]",
      "text/plain": [
       "<Figure size 432x288 with 1 Axes>"
      ]
     },
     "metadata": {
      "needs_background": "light"
     },
     "output_type": "display_data"
    }
   ],
   "source": [
    "california_twitter_df.plot.scatter( x = 'Count', y = 'new_deaths', xlabel = 'number of tweets', ylabel = 'number of new death cases',title = 'California new death cases vs tweets number')"
   ]
  },
  {
   "cell_type": "code",
   "execution_count": 11,
   "id": "f1264d93-4f28-4e41-93ad-7780334372bd",
   "metadata": {},
   "outputs": [
    {
     "data": {
      "text/plain": [
       "<AxesSubplot:title={'center':'Texas new Confirmed cases vs tweets number'}, xlabel='number of tweets', ylabel='number of new death cases'>"
      ]
     },
     "execution_count": 11,
     "metadata": {},
     "output_type": "execute_result"
    },
    {
     "data": {
      "image/png": "[encoded data removed]",
      "text/plain": [
       "<Figure size 432x288 with 1 Axes>"
      ]
     },
     "metadata": {
      "needs_background": "light"
     },
     "output_type": "display_data"
    }
   ],
   "source": [
    "#the analysis toward Texas\n",
    "tx_twitter_df = covid_tweets_states_df[covid_tweets_states_df['States'] =='TX']\n",
    "tx_twitter_df=tx_twitter_df[tx_twitter_df['Week_index']>15]\n",
    "\n",
    "tx_twitter_df.plot.scatter(x = 'Count', y = 'new_cases', xlabel = 'number of tweets', ylabel = 'number of new death cases',title = 'Texas new Confirmed cases vs tweets number')\n"
   ]
  },
  {
   "cell_type": "code",
   "execution_count": 12,
   "id": "f5cd62e7-f040-4db6-ac23-a1fc65c38e66",
   "metadata": {},
   "outputs": [
    {
     "data": {
      "text/plain": [
       "<AxesSubplot:title={'center':'Texas new death cases vs tweets number'}, xlabel='number of tweets', ylabel='number of new death cases'>"
      ]
     },
     "execution_count": 12,
     "metadata": {},
     "output_type": "execute_result"
    },
    {
     "data": {
      "image/png": "[encoded data removed]",
      "text/plain": [
       "<Figure size 432x288 with 1 Axes>"
      ]
     },
     "metadata": {
      "needs_background": "light"
     },
     "output_type": "display_data"
    }
   ],
   "source": [
    "tx_twitter_df.plot.scatter( x = 'Count', y = 'new_deaths', xlabel = 'number of tweets', ylabel = 'number of new death cases',title = 'Texas new death cases vs tweets number')"
   ]
  }
 ],
 "metadata": {
  "kernelspec": {
   "display_name": "Python 3",
   "language": "python",
   "name": "python3"
  },
  "language_info": {
   "codemirror_mode": {
    "name": "ipython",
    "version": 3
   },
   "file_extension": ".py",
   "mimetype": "text/x-python",
   "name": "python",
   "nbconvert_exporter": "python",
   "pygments_lexer": "ipython3",
   "version": "3.8.8"
  }
 },
 "nbformat": 4,
 "nbformat_minor": 5
}
