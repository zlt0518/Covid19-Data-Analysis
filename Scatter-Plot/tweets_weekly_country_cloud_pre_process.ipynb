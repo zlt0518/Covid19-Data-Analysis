{
 "cells": [
  {
   "cell_type": "markdown",
   "id": "8b46ff70",
   "metadata": {},
   "source": [
    "# Pre-process the data on the average number of tweets in weekly basis"
   ]
  },
  {
   "cell_type": "markdown",
   "id": "b0114a2a",
   "metadata": {},
   "source": [
    "The note notebook is done on compute Canada and used the data of all the tweets and their geo-locations to sepearte the country and produce the average number of tweets of each country in each week"
   ]
  },
  {
   "cell_type": "code",
   "execution_count": 1,
   "id": "d2020b32",
   "metadata": {},
   "outputs": [],
   "source": [
    "import pandas as pd"
   ]
  },
  {
   "cell_type": "code",
   "execution_count": 2,
   "id": "5d5170f3",
   "metadata": {},
   "outputs": [],
   "source": [
    "total_df = pd.read_csv('/home/zhoulita/scratch/covid_data_unprocessed/dataFrame/tweet_df_loc_total.csv',low_memory=False,lineterminator='\\n')\n",
    "del total_df['Unnamed: 0']\n",
    "del total_df['Unnamed: 0.1']cd\n",
    "\n",
    "def get_week_index(df):\n",
    "    return int((df['day_index']-1)/7)\n",
    "total_df['week_index']= total_df.apply(get_week_index,axis = 1)"
   ]
  },
  {
   "cell_type": "code",
   "execution_count": 3,
   "id": "e91823f3",
   "metadata": {},
   "outputs": [
    {
     "data": {
      "text/html": [
       "<div>\n",
       "<style scoped>\n",
       "    .dataframe tbody tr th:only-of-type {\n",
       "        vertical-align: middle;\n",
       "    }\n",
       "\n",
       "    .dataframe tbody tr th {\n",
       "        vertical-align: top;\n",
       "    }\n",
       "\n",
       "    .dataframe thead th {\n",
       "        text-align: right;\n",
       "    }\n",
       "</style>\n",
       "<table border=\"1\" class=\"dataframe\">\n",
       "  <thead>\n",
       "    <tr style=\"text-align: right;\">\n",
       "      <th></th>\n",
       "      <th>week_index</th>\n",
       "      <th>count</th>\n",
       "      <th>country_code</th>\n",
       "    </tr>\n",
       "  </thead>\n",
       "  <tbody>\n",
       "    <tr>\n",
       "      <th>0</th>\n",
       "      <td>0</td>\n",
       "      <td>927.142857</td>\n",
       "      <td>NG</td>\n",
       "    </tr>\n",
       "    <tr>\n",
       "      <th>1</th>\n",
       "      <td>1</td>\n",
       "      <td>924.285714</td>\n",
       "      <td>NG</td>\n",
       "    </tr>\n",
       "    <tr>\n",
       "      <th>2</th>\n",
       "      <td>5</td>\n",
       "      <td>861.714286</td>\n",
       "      <td>NG</td>\n",
       "    </tr>\n",
       "    <tr>\n",
       "      <th>3</th>\n",
       "      <td>6</td>\n",
       "      <td>814.285714</td>\n",
       "      <td>NG</td>\n",
       "    </tr>\n",
       "    <tr>\n",
       "      <th>4</th>\n",
       "      <td>4</td>\n",
       "      <td>776.000000</td>\n",
       "      <td>NG</td>\n",
       "    </tr>\n",
       "    <tr>\n",
       "      <th>...</th>\n",
       "      <td>...</td>\n",
       "      <td>...</td>\n",
       "      <td>...</td>\n",
       "    </tr>\n",
       "    <tr>\n",
       "      <th>2</th>\n",
       "      <td>35</td>\n",
       "      <td>0.142857</td>\n",
       "      <td>NF</td>\n",
       "    </tr>\n",
       "    <tr>\n",
       "      <th>0</th>\n",
       "      <td>36</td>\n",
       "      <td>0.285714</td>\n",
       "      <td>IO</td>\n",
       "    </tr>\n",
       "    <tr>\n",
       "      <th>0</th>\n",
       "      <td>38</td>\n",
       "      <td>0.428571</td>\n",
       "      <td>TK</td>\n",
       "    </tr>\n",
       "    <tr>\n",
       "      <th>1</th>\n",
       "      <td>40</td>\n",
       "      <td>0.285714</td>\n",
       "      <td>TK</td>\n",
       "    </tr>\n",
       "    <tr>\n",
       "      <th>2</th>\n",
       "      <td>41</td>\n",
       "      <td>0.285714</td>\n",
       "      <td>TK</td>\n",
       "    </tr>\n",
       "  </tbody>\n",
       "</table>\n",
       "<p>9898 rows × 3 columns</p>\n",
       "</div>"
      ],
      "text/plain": [
       "    week_index       count country_code\n",
       "0            0  927.142857           NG\n",
       "1            1  924.285714           NG\n",
       "2            5  861.714286           NG\n",
       "3            6  814.285714           NG\n",
       "4            4  776.000000           NG\n",
       "..         ...         ...          ...\n",
       "2           35    0.142857           NF\n",
       "0           36    0.285714           IO\n",
       "0           38    0.428571           TK\n",
       "1           40    0.285714           TK\n",
       "2           41    0.285714           TK\n",
       "\n",
       "[9898 rows x 3 columns]"
      ]
     },
     "execution_count": 3,
     "metadata": {},
     "output_type": "execute_result"
    }
   ],
   "source": [
    "country_code_list = total_df['country_code'].unique().tolist()\n",
    "country_idx = range(len(country_code_list))\n",
    "\n",
    "temp_country = country_code_list[0]\n",
    "temp_df = total_df[total_df['country_code']==temp_country]\n",
    "country_data_week = pd.DataFrame(temp_df['week_index'].value_counts())\n",
    "country_data_week.reset_index(inplace=True)\n",
    "country_data_week.rename(columns={'index':\"week_index\",'week_index':'count'},inplace=True)\n",
    "country_data_week['count'] = country_data_week['count']/7\n",
    "country_data_week['country_code'] = temp_country\n",
    "\n",
    "\n",
    "\n",
    "#loop through all the country and the week of tweets as average\n",
    "for i in country_idx:\n",
    "    if i ==0:\n",
    "        continue\n",
    "    temp_country = country_code_list[i]\n",
    "    temp_df = total_df[total_df['country_code']==temp_country]\n",
    "    temp_data_week = pd.DataFrame(temp_df['week_index'].value_counts())\n",
    "    temp_data_week.reset_index(inplace=True)\n",
    "    temp_data_week.rename(columns={'index':\"week_index\",'week_index':'count'},inplace=True)\n",
    "    temp_data_week['count'] = temp_data_week['count']/7\n",
    "    temp_data_week['country_code'] = temp_country\n",
    "    country_data_week = pd.concat([country_data_week,temp_data_week])\n",
    "\n",
    "\n",
    "country_data_week"
   ]
  },
  {
   "cell_type": "code",
   "execution_count": 4,
   "id": "74dc0edc",
   "metadata": {},
   "outputs": [],
   "source": [
    "country_data_week.to_csv('/home/zhoulita/scratch/country_weekly_counts_avg.csv')"
   ]
  },
  {
   "cell_type": "code",
   "execution_count": null,
   "id": "f456a368",
   "metadata": {},
   "outputs": [],
   "source": []
  }
 ],
 "metadata": {
  "kernelspec": {
   "display_name": "Python 3 (ipykernel)",
   "language": "python",
   "name": "python3"
  },
  "language_info": {
   "codemirror_mode": {
    "name": "ipython",
    "version": 3
   },
   "file_extension": ".py",
   "mimetype": "text/x-python",
   "name": "python",
   "nbconvert_exporter": "python",
   "pygments_lexer": "ipython3",
   "version": "3.8.2"
  }
 },
 "nbformat": 4,
 "nbformat_minor": 5
}
